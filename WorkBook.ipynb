{
 "cells": [
  {
   "cell_type": "code",
   "execution_count": null,
   "id": "38648eb7-709e-49a9-be8b-a9e5d9eea480",
   "metadata": {},
   "outputs": [],
   "source": [
    "import KP_Learn as kp"
   ]
  },
  {
   "cell_type": "markdown",
   "id": "44ebbd8e-bafb-40f9-9c8b-f94e64d883bc",
   "metadata": {},
   "source": [
    "# Challenge 1"
   ]
  },
  {
   "cell_type": "markdown",
   "id": "5bee1b1b-ea39-4351-81c8-46e1d441ffce",
   "metadata": {},
   "source": [
    "## Factorial\n",
    "\n",
    "- **Input:** *num*\n",
    "- **Output:** *Factorial of num*\n",
    "- **Your Task:** *Make the factorial function that returns the factorial of the input*\n",
    "- **Constraints:** *if the input is other than a positive whole number, return none*\n",
    "\n"
   ]
  },
  {
   "cell_type": "code",
   "execution_count": null,
   "id": "0328f08c-3d59-4a14-a8ec-d1454538cf43",
   "metadata": {},
   "outputs": [],
   "source": [
    "@kp.challenge_1\n",
    "def factorial(num):\n",
    "    #Write your codes here>>>\n",
    "    pass"
   ]
  },
  {
   "cell_type": "markdown",
   "id": "dbd586df-3278-4236-93b0-1e1cc0d4a817",
   "metadata": {},
   "source": [
    "## Test Code >"
   ]
  },
  {
   "cell_type": "code",
   "execution_count": null,
   "id": "60d351a8-ed5d-4098-a38e-471873f8c9f7",
   "metadata": {},
   "outputs": [],
   "source": [
    "factorial()"
   ]
  },
  {
   "cell_type": "markdown",
   "id": "37766756-51e5-4000-bbe2-8c30dcd0d3b5",
   "metadata": {},
   "source": [
    "# Challenge 2"
   ]
  },
  {
   "cell_type": "markdown",
   "id": "262f866f-598f-463f-a74a-ce088d653dab",
   "metadata": {},
   "source": [
    "## Odd or Even\n",
    "\n",
    "- **Input:** *num*\n",
    "- **Output:** *Odd/Even*\n",
    "- **Your Task:** *Make the odd_or_even function that returns \"Odd\" if num is odd and \"Even\" if num is even*\n",
    "- **Constraints:** *Should return only \"Odd\" or \"Even\" accordingly [No need to check inputs, as all the inputs are positive whole numbers].*\n",
    "\n"
   ]
  },
  {
   "cell_type": "code",
   "execution_count": null,
   "id": "d3345731-591e-4897-897a-0d0fb2514670",
   "metadata": {},
   "outputs": [],
   "source": [
    "@kp.challenge_2\n",
    "def odd_or_even(num):\n",
    "    #Write your codes here>>>\n",
    "    pass"
   ]
  },
  {
   "cell_type": "markdown",
   "id": "be05280d-6fea-452c-bd2a-2181ef70aaee",
   "metadata": {},
   "source": [
    "## Test Code >"
   ]
  },
  {
   "cell_type": "code",
   "execution_count": null,
   "id": "7b43be09-0355-4392-8701-6040915aeeab",
   "metadata": {},
   "outputs": [],
   "source": [
    "odd_or_even()"
   ]
  }
 ],
 "metadata": {
  "kernelspec": {
   "display_name": "Python 3 (ipykernel)",
   "language": "python",
   "name": "python3"
  },
  "language_info": {
   "codemirror_mode": {
    "name": "ipython",
    "version": 3
   },
   "file_extension": ".py",
   "mimetype": "text/x-python",
   "name": "python",
   "nbconvert_exporter": "python",
   "pygments_lexer": "ipython3",
   "version": "3.11.7"
  }
 },
 "nbformat": 4,
 "nbformat_minor": 5
}
