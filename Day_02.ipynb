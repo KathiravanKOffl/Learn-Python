{
 "cells": [
  {
   "cell_type": "markdown",
   "id": "a08b1a05-7cac-48f1-9679-c2aca24e95ac",
   "metadata": {},
   "source": [
    "# Conditions"
   ]
  },
  {
   "cell_type": "markdown",
   "id": "b6be105e-8357-48d6-9bdc-266372d26dc0",
   "metadata": {},
   "source": [
    "## Using if"
   ]
  },
  {
   "cell_type": "code",
   "execution_count": 1,
   "id": "dcd51b85-1920-4f8d-bc7d-752dcced988c",
   "metadata": {},
   "outputs": [
    {
     "name": "stdout",
     "output_type": "stream",
     "text": [
      "It is true\n"
     ]
    }
   ],
   "source": [
    "if True:\n",
    "    print(\"It is true\")"
   ]
  },
  {
   "cell_type": "code",
   "execution_count": 6,
   "id": "42675851-2e49-49e5-9ef1-15374299f086",
   "metadata": {},
   "outputs": [],
   "source": [
    "if False:\n",
    "    print(\"It is false\")"
   ]
  },
  {
   "cell_type": "code",
   "execution_count": 3,
   "id": "f790b0fa-df8a-4541-811b-5dff4f1d92e5",
   "metadata": {},
   "outputs": [
    {
     "name": "stdout",
     "output_type": "stream",
     "text": [
      "a is true\n"
     ]
    }
   ],
   "source": [
    "a = True\n",
    "\n",
    "if a:\n",
    "    print(\"a is true\")"
   ]
  },
  {
   "cell_type": "code",
   "execution_count": 8,
   "id": "5564b34d-1f37-4ea5-8412-f9a17e357647",
   "metadata": {},
   "outputs": [
    {
     "ename": "NameError",
     "evalue": "name 'true' is not defined",
     "output_type": "error",
     "traceback": [
      "\u001b[1;31m---------------------------------------------------------------------------\u001b[0m",
      "\u001b[1;31mNameError\u001b[0m                                 Traceback (most recent call last)",
      "Cell \u001b[1;32mIn[8], line 1\u001b[0m\n\u001b[1;32m----> 1\u001b[0m a \u001b[38;5;241m=\u001b[39m true\n\u001b[0;32m      3\u001b[0m \u001b[38;5;28;01mif\u001b[39;00m a:\n\u001b[0;32m      4\u001b[0m     \u001b[38;5;28mprint\u001b[39m(\u001b[38;5;124m\"\u001b[39m\u001b[38;5;124ma is true\u001b[39m\u001b[38;5;124m\"\u001b[39m)\n",
      "\u001b[1;31mNameError\u001b[0m: name 'true' is not defined"
     ]
    }
   ],
   "source": [
    "a = true\n",
    "\n",
    "if a:\n",
    "    print(\"a is true\")"
   ]
  },
  {
   "cell_type": "code",
   "execution_count": 4,
   "id": "b975f45a-b26a-4d7f-8db2-b3c411a29f13",
   "metadata": {},
   "outputs": [
    {
     "name": "stdout",
     "output_type": "stream",
     "text": [
      "a is 8\n"
     ]
    }
   ],
   "source": [
    "a = 8\n",
    "\n",
    "if a == 8:\n",
    "    print(\"a is 8\")"
   ]
  },
  {
   "cell_type": "code",
   "execution_count": 5,
   "id": "8e4bdee4-c042-4dff-8206-23789ecf826d",
   "metadata": {},
   "outputs": [],
   "source": [
    "a = 6\n",
    "\n",
    "if a == 8:\n",
    "    print(\"a is 8\")"
   ]
  },
  {
   "cell_type": "markdown",
   "id": "086edf0f-1d5d-44fd-9cd9-14b2750f0363",
   "metadata": {},
   "source": [
    "## Using else"
   ]
  },
  {
   "cell_type": "code",
   "execution_count": 7,
   "id": "513aa6d0-2bb4-4424-b8b0-500e8d59a88c",
   "metadata": {},
   "outputs": [
    {
     "name": "stdout",
     "output_type": "stream",
     "text": [
      "a is not 8\n"
     ]
    }
   ],
   "source": [
    "a = 6\n",
    "\n",
    "if a == 8:\n",
    "    print(\"a is 8\")\n",
    "else:\n",
    "    print(\"a is not 8\")"
   ]
  },
  {
   "cell_type": "markdown",
   "id": "07bd583a-2f31-4ef0-babe-4a270d152afb",
   "metadata": {},
   "source": [
    "## Using elif"
   ]
  },
  {
   "cell_type": "code",
   "execution_count": 9,
   "id": "f9ae3ec1-8553-45ba-99f7-18a864c9603d",
   "metadata": {},
   "outputs": [
    {
     "name": "stdout",
     "output_type": "stream",
     "text": [
      "a is 6\n"
     ]
    }
   ],
   "source": [
    "a = 6\n",
    "\n",
    "if a == 8:\n",
    "    print(\"a is 8\")\n",
    "elif a == 6:\n",
    "    print(\"a is 6\")\n",
    "else:\n",
    "    print(\"a is not 8 and not 6\")"
   ]
  },
  {
   "cell_type": "code",
   "execution_count": 10,
   "id": "72f57a42-d9b6-4562-8f64-93342b28d4d2",
   "metadata": {},
   "outputs": [
    {
     "name": "stdout",
     "output_type": "stream",
     "text": [
      "a is not 8 and not 6\n"
     ]
    }
   ],
   "source": [
    "a = 5\n",
    "\n",
    "if a == 8:\n",
    "    print(\"a is 8\")\n",
    "elif a == 6:\n",
    "    print(\"a is 6\")\n",
    "else:\n",
    "    print(\"a is not 8 and not 6\")"
   ]
  },
  {
   "cell_type": "code",
   "execution_count": 11,
   "id": "d32c3c3c-84dd-48f4-98f3-674951e81a45",
   "metadata": {},
   "outputs": [
    {
     "name": "stdout",
     "output_type": "stream",
     "text": [
      "a is 5\n"
     ]
    }
   ],
   "source": [
    "a = 5\n",
    "\n",
    "if a == 8:\n",
    "    print(\"a is 8\")\n",
    "elif a == 6:\n",
    "    print(\"a is 6\")\n",
    "elif a == 5:\n",
    "    print(\"a is 5\")\n",
    "else:\n",
    "    print(\"a is not 8 and not 6\")"
   ]
  },
  {
   "cell_type": "markdown",
   "id": "41dfbbeb-3e66-4113-acfa-e7dbc6a1e290",
   "metadata": {},
   "source": [
    "# Casting"
   ]
  },
  {
   "cell_type": "markdown",
   "id": "390f016a-72c2-43ec-9574-9903dc4c2119",
   "metadata": {},
   "source": [
    "> refers to changing one datatype to another datatype"
   ]
  },
  {
   "cell_type": "code",
   "execution_count": null,
   "id": "9fdd67f3-1cf6-4c8c-827e-bd11fbd6aad3",
   "metadata": {},
   "outputs": [],
   "source": [
    "int(\"12\")              # Casting string to integer"
   ]
  }
 ],
 "metadata": {
  "kernelspec": {
   "display_name": "Python 3 (ipykernel)",
   "language": "python",
   "name": "python3"
  },
  "language_info": {
   "codemirror_mode": {
    "name": "ipython",
    "version": 3
   },
   "file_extension": ".py",
   "mimetype": "text/x-python",
   "name": "python",
   "nbconvert_exporter": "python",
   "pygments_lexer": "ipython3",
   "version": "3.11.7"
  }
 },
 "nbformat": 4,
 "nbformat_minor": 5
}
