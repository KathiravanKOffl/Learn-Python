{
 "cells": [
  {
   "cell_type": "markdown",
   "id": "4bbf6185-54d9-4494-98f7-7fec70a71b4b",
   "metadata": {
    "jp-MarkdownHeadingCollapsed": true
   },
   "source": [
    "# List Comprehension"
   ]
  },
  {
   "cell_type": "markdown",
   "id": "74a4bfe3-a1d7-44d1-a01b-4ae6992195ca",
   "metadata": {},
   "source": [
    "> ## [ data for var in iterable ]"
   ]
  },
  {
   "cell_type": "code",
   "execution_count": 67,
   "id": "e21a635b-b894-46b8-b752-168283d7a292",
   "metadata": {},
   "outputs": [],
   "source": [
    "a = [\"AB\",\"CD\"]"
   ]
  },
  {
   "cell_type": "code",
   "execution_count": 71,
   "id": "304ade49-38bd-41be-9baa-19dd312d5931",
   "metadata": {},
   "outputs": [
    {
     "data": {
      "text/plain": [
       "['hii', 'hii']"
      ]
     },
     "execution_count": 71,
     "metadata": {},
     "output_type": "execute_result"
    }
   ],
   "source": [
    "[\"hii\" for i in a]"
   ]
  },
  {
   "cell_type": "code",
   "execution_count": 77,
   "id": "f12ef49a-5adf-4e4a-98d7-f88014aedc8c",
   "metadata": {},
   "outputs": [
    {
     "data": {
      "text/plain": [
       "[1, 4, 9, 16, 25, 36, 49, 64, 81]"
      ]
     },
     "execution_count": 77,
     "metadata": {},
     "output_type": "execute_result"
    }
   ],
   "source": [
    "b = [1,2,3,4,5,6,7,8,9]\n",
    "\n",
    "c = []\n",
    "for i in b:\n",
    "    c.append(i**2)\n",
    "\n",
    "c"
   ]
  },
  {
   "cell_type": "markdown",
   "id": "2441f619-ac6f-46ba-b59e-438511cd8fca",
   "metadata": {
    "jp-MarkdownHeadingCollapsed": true
   },
   "source": [
    "# Dictionary Comprehension"
   ]
  },
  {
   "cell_type": "code",
   "execution_count": 74,
   "id": "e274a415-a76f-46c6-936d-662e917221ef",
   "metadata": {},
   "outputs": [
    {
     "data": {
      "text/plain": [
       "[1, 4, 9, 16, 25, 36, 49, 64, 81]"
      ]
     },
     "execution_count": 74,
     "metadata": {},
     "output_type": "execute_result"
    }
   ],
   "source": [
    "[k**2 for k in b]"
   ]
  },
  {
   "cell_type": "markdown",
   "id": "d27b4045-5ee2-4251-a10d-2f308f4e9e4b",
   "metadata": {},
   "source": [
    "> ## { key:value for var in iterable }"
   ]
  },
  {
   "cell_type": "code",
   "execution_count": 86,
   "id": "4703d0f7-2344-4eaa-9fcf-bc7e94482af4",
   "metadata": {},
   "outputs": [
    {
     "data": {
      "text/plain": [
       "[(1, 'ka'), (2, 'th'), (3, 'ir')]"
      ]
     },
     "execution_count": 86,
     "metadata": {},
     "output_type": "execute_result"
    }
   ],
   "source": [
    "k = [(1,\"ka\"),(2,\"th\"),(3,\"ir\")]\n",
    "\n",
    "k"
   ]
  },
  {
   "cell_type": "code",
   "execution_count": 93,
   "id": "a78bfd90-1b65-45fa-a25f-502ea66d783f",
   "metadata": {},
   "outputs": [],
   "source": [
    "dic = {i[0]:i[1] for i in k}"
   ]
  },
  {
   "cell_type": "code",
   "execution_count": 91,
   "id": "368a1ce9-4aec-4109-be4c-feb1ceab1104",
   "metadata": {},
   "outputs": [
    {
     "data": {
      "text/plain": [
       "1"
      ]
     },
     "execution_count": 91,
     "metadata": {},
     "output_type": "execute_result"
    }
   ],
   "source": [
    "dic[\"ka\"]"
   ]
  },
  {
   "cell_type": "code",
   "execution_count": 94,
   "id": "46958180-ee48-491d-b7ba-90a3472a1dc9",
   "metadata": {},
   "outputs": [
    {
     "data": {
      "text/plain": [
       "'ka'"
      ]
     },
     "execution_count": 94,
     "metadata": {},
     "output_type": "execute_result"
    }
   ],
   "source": [
    "dic[1]"
   ]
  },
  {
   "cell_type": "markdown",
   "id": "97d53c2b-fd04-469e-b474-181126398733",
   "metadata": {},
   "source": [
    "# Functions"
   ]
  },
  {
   "cell_type": "code",
   "execution_count": 26,
   "id": "dcd6309e-c51a-4e48-b3b9-77249bfc6a1c",
   "metadata": {},
   "outputs": [
    {
     "name": "stdout",
     "output_type": "stream",
     "text": [
      "9\n"
     ]
    }
   ],
   "source": [
    "def add(a):\n",
    "    c = a\n",
    "    return c\n",
    "\n",
    "a = add(9)\n",
    "print(a)"
   ]
  },
  {
   "cell_type": "code",
   "execution_count": null,
   "id": "bc87784b-2953-4b71-9721-a74e4e768c04",
   "metadata": {},
   "outputs": [],
   "source": [
    "oii stop sharing kudu Hmm oke"
   ]
  }
 ],
 "metadata": {
  "kernelspec": {
   "display_name": "Python 3 (ipykernel)",
   "language": "python",
   "name": "python3"
  },
  "language_info": {
   "codemirror_mode": {
    "name": "ipython",
    "version": 3
   },
   "file_extension": ".py",
   "mimetype": "text/x-python",
   "name": "python",
   "nbconvert_exporter": "python",
   "pygments_lexer": "ipython3",
   "version": "3.11.7"
  }
 },
 "nbformat": 4,
 "nbformat_minor": 5
}
