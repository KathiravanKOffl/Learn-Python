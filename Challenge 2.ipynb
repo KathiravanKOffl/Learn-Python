{
 "cells": [
  {
   "cell_type": "code",
   "execution_count": null,
   "id": "38648eb7-709e-49a9-be8b-a9e5d9eea480",
   "metadata": {},
   "outputs": [],
   "source": [
    "import Learn_Python.Challenges as lp"
   ]
  },
  {
   "cell_type": "markdown",
   "id": "44ebbd8e-bafb-40f9-9c8b-f94e64d883bc",
   "metadata": {
    "jp-MarkdownHeadingCollapsed": true
   },
   "source": [
    "# Challenge 2"
   ]
  },
  {
   "cell_type": "markdown",
   "id": "5bee1b1b-ea39-4351-81c8-46e1d441ffce",
   "metadata": {},
   "source": [
    "## Factorial\n",
    "\n",
    "- **Input:** *num*\n",
    "- **Output:** *Factorial of num*\n",
    "- **Your Task:** *Make the factorial function that returns the factorial of the input*\n",
    "- **Constraints:** *if the input is other than a positive whole number, return none*"
   ]
  },
  {
   "cell_type": "code",
   "execution_count": null,
   "id": "0328f08c-3d59-4a14-a8ec-d1454538cf43",
   "metadata": {},
   "outputs": [],
   "source": [
    "@lp.challenge_2\n",
    "def factorial(num):\n",
    "    #Write your codes here>>>\n",
    "    pass"
   ]
  },
  {
   "cell_type": "markdown",
   "id": "dbd586df-3278-4236-93b0-1e1cc0d4a817",
   "metadata": {},
   "source": [
    "## Test Code >"
   ]
  },
  {
   "cell_type": "code",
   "execution_count": null,
   "id": "60d351a8-ed5d-4098-a38e-471873f8c9f7",
   "metadata": {},
   "outputs": [],
   "source": [
    "factorial()"
   ]
  }
 ],
 "metadata": {
  "kernelspec": {
   "display_name": "Python 3 (ipykernel)",
   "language": "python",
   "name": "python3"
  },
  "language_info": {
   "codemirror_mode": {
    "name": "ipython",
    "version": 3
   },
   "file_extension": ".py",
   "mimetype": "text/x-python",
   "name": "python",
   "nbconvert_exporter": "python",
   "pygments_lexer": "ipython3",
   "version": "3.11.7"
  }
 },
 "nbformat": 4,
 "nbformat_minor": 5
}
