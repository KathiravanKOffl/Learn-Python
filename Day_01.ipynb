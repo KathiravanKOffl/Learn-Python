{
 "cells": [
  {
   "cell_type": "markdown",
   "id": "4553a789-e8bf-4574-9687-0485ee88fb61",
   "metadata": {},
   "source": [
    "# The `print` function"
   ]
  },
  {
   "cell_type": "markdown",
   "id": "9a69cbe4-3182-4b1e-ad63-dd131791d0c3",
   "metadata": {},
   "source": [
    "> a builtin that prints anything inside it's paranthesis `()` into the output screen (console)"
   ]
  },
  {
   "cell_type": "code",
   "execution_count": 2,
   "id": "d6e80009-7731-44a1-a578-d2de8065ab46",
   "metadata": {},
   "outputs": [
    {
     "name": "stdout",
     "output_type": "stream",
     "text": [
      "Hello world\n"
     ]
    }
   ],
   "source": [
    "print(\"Hello world\")"
   ]
  },
  {
   "cell_type": "markdown",
   "id": "08a35033-f06c-44bb-8d81-709cdb161ac9",
   "metadata": {},
   "source": [
    "---"
   ]
  },
  {
   "cell_type": "markdown",
   "id": "f51f8d8a-c859-4533-b540-d13aaed7ed8f",
   "metadata": {
    "jp-MarkdownHeadingCollapsed": true
   },
   "source": [
    "# Data Types"
   ]
  },
  {
   "cell_type": "markdown",
   "id": "44b888a9-762e-4137-b7a9-dc14d25726dc",
   "metadata": {},
   "source": [
    "- int\n",
    "- float\n",
    "- string\n",
    "- boolean\n",
    "- complex\n",
    "- none"
   ]
  },
  {
   "cell_type": "markdown",
   "id": "1623399c-3ba8-4adb-9e55-4fa94e8ffbc1",
   "metadata": {
    "jp-MarkdownHeadingCollapsed": true
   },
   "source": [
    "## 1. Integer"
   ]
  },
  {
   "cell_type": "code",
   "execution_count": 15,
   "id": "8d4bb3e5-a18f-4ec0-b889-dbadfe7d4b51",
   "metadata": {},
   "outputs": [
    {
     "data": {
      "text/plain": [
       "29"
      ]
     },
     "execution_count": 15,
     "metadata": {},
     "output_type": "execute_result"
    }
   ],
   "source": [
    "29"
   ]
  },
  {
   "cell_type": "code",
   "execution_count": 18,
   "id": "ddf21c8b-1c9b-4df5-9073-17a68d518fb6",
   "metadata": {},
   "outputs": [
    {
     "data": {
      "text/plain": [
       "29"
      ]
     },
     "execution_count": 18,
     "metadata": {},
     "output_type": "execute_result"
    }
   ],
   "source": [
    "a = 29\n",
    "\n",
    "a"
   ]
  },
  {
   "cell_type": "code",
   "execution_count": 19,
   "id": "83bd271b-6413-493a-97ee-2601621775f9",
   "metadata": {},
   "outputs": [
    {
     "data": {
      "text/plain": [
       "int"
      ]
     },
     "execution_count": 19,
     "metadata": {},
     "output_type": "execute_result"
    }
   ],
   "source": [
    "type(a)"
   ]
  },
  {
   "cell_type": "code",
   "execution_count": 26,
   "id": "3c31f5ab-e8d8-4347-a028-e8a715ad0c0c",
   "metadata": {},
   "outputs": [
    {
     "data": {
      "text/plain": [
       "30"
      ]
     },
     "execution_count": 26,
     "metadata": {},
     "output_type": "execute_result"
    }
   ],
   "source": [
    "29 + 1"
   ]
  },
  {
   "cell_type": "code",
   "execution_count": 32,
   "id": "613d1e8a-704b-4763-bf09-a1880e418b62",
   "metadata": {},
   "outputs": [
    {
     "ename": "NameError",
     "evalue": "name 'true' is not defined",
     "output_type": "error",
     "traceback": [
      "\u001b[1;31m---------------------------------------------------------------------------\u001b[0m",
      "\u001b[1;31mNameError\u001b[0m                                 Traceback (most recent call last)",
      "Cell \u001b[1;32mIn[32], line 1\u001b[0m\n\u001b[1;32m----> 1\u001b[0m true \u001b[38;5;241m+\u001b[39m \u001b[38;5;241m1\u001b[39m\n",
      "\u001b[1;31mNameError\u001b[0m: name 'true' is not defined"
     ]
    }
   ],
   "source": [
    "true + 1"
   ]
  },
  {
   "cell_type": "markdown",
   "id": "85d324d6-d28b-4e34-94f1-962f65b2b0d3",
   "metadata": {
    "jp-MarkdownHeadingCollapsed": true
   },
   "source": [
    "## 2. Float"
   ]
  },
  {
   "cell_type": "code",
   "execution_count": 5,
   "id": "3dd4bbe1-0888-4e9a-839a-91261e5d45d6",
   "metadata": {},
   "outputs": [
    {
     "data": {
      "text/plain": [
       "2.9"
      ]
     },
     "execution_count": 5,
     "metadata": {},
     "output_type": "execute_result"
    }
   ],
   "source": [
    "2.9"
   ]
  },
  {
   "cell_type": "code",
   "execution_count": 7,
   "id": "f774b58a-87be-41d1-99af-5b867fdcec5f",
   "metadata": {},
   "outputs": [
    {
     "data": {
      "text/plain": [
       "2.9"
      ]
     },
     "execution_count": 7,
     "metadata": {},
     "output_type": "execute_result"
    }
   ],
   "source": [
    "b = 2.9\n",
    "\n",
    "b"
   ]
  },
  {
   "cell_type": "code",
   "execution_count": 8,
   "id": "c5edbb40-3329-453f-b123-145c967120a0",
   "metadata": {},
   "outputs": [
    {
     "data": {
      "text/plain": [
       "float"
      ]
     },
     "execution_count": 8,
     "metadata": {},
     "output_type": "execute_result"
    }
   ],
   "source": [
    "type(b)"
   ]
  },
  {
   "cell_type": "markdown",
   "id": "1ff5cf52-a886-406b-a10c-64ce0a814792",
   "metadata": {
    "jp-MarkdownHeadingCollapsed": true
   },
   "source": [
    "## 3. String"
   ]
  },
  {
   "cell_type": "code",
   "execution_count": 9,
   "id": "c34b73d7-5cf2-4c75-ac27-e7d1b0a1c46b",
   "metadata": {},
   "outputs": [
    {
     "data": {
      "text/plain": [
       "'Python'"
      ]
     },
     "execution_count": 9,
     "metadata": {},
     "output_type": "execute_result"
    }
   ],
   "source": [
    "\"Python\""
   ]
  },
  {
   "cell_type": "code",
   "execution_count": 10,
   "id": "656c0ac6-4540-465a-9648-419f26307c2a",
   "metadata": {},
   "outputs": [
    {
     "data": {
      "text/plain": [
       "'Python'"
      ]
     },
     "execution_count": 10,
     "metadata": {},
     "output_type": "execute_result"
    }
   ],
   "source": [
    "'Python'"
   ]
  },
  {
   "cell_type": "code",
   "execution_count": 61,
   "id": "6a9fac92-6d38-4af7-a076-548a0b8ed91a",
   "metadata": {},
   "outputs": [
    {
     "data": {
      "text/plain": [
       "str"
      ]
     },
     "execution_count": 61,
     "metadata": {},
     "output_type": "execute_result"
    }
   ],
   "source": [
    "type('Python')"
   ]
  },
  {
   "cell_type": "code",
   "execution_count": 20,
   "id": "99694a17-2619-40b7-9dd5-01f130b1013b",
   "metadata": {
    "scrolled": true
   },
   "outputs": [
    {
     "ename": "NameError",
     "evalue": "name 'Python' is not defined",
     "output_type": "error",
     "traceback": [
      "\u001b[1;31m---------------------------------------------------------------------------\u001b[0m",
      "\u001b[1;31mNameError\u001b[0m                                 Traceback (most recent call last)",
      "Cell \u001b[1;32mIn[20], line 1\u001b[0m\n\u001b[1;32m----> 1\u001b[0m Python\n",
      "\u001b[1;31mNameError\u001b[0m: name 'Python' is not defined"
     ]
    }
   ],
   "source": [
    "Python"
   ]
  },
  {
   "cell_type": "markdown",
   "id": "0557a403-55d1-4c68-bb2a-d50dd0284f1a",
   "metadata": {
    "jp-MarkdownHeadingCollapsed": true
   },
   "source": [
    "## 4. Boolean"
   ]
  },
  {
   "cell_type": "code",
   "execution_count": 23,
   "id": "7913384a-b96d-4529-90dc-fcfaaaf5d567",
   "metadata": {},
   "outputs": [
    {
     "data": {
      "text/plain": [
       "bool"
      ]
     },
     "execution_count": 23,
     "metadata": {},
     "output_type": "execute_result"
    }
   ],
   "source": [
    "type(True)"
   ]
  },
  {
   "cell_type": "code",
   "execution_count": 25,
   "id": "da8cd460-0e86-47cd-9f3d-efb3c6ac3df3",
   "metadata": {},
   "outputs": [
    {
     "data": {
      "text/plain": [
       "False"
      ]
     },
     "execution_count": 25,
     "metadata": {},
     "output_type": "execute_result"
    }
   ],
   "source": [
    "False"
   ]
  },
  {
   "cell_type": "code",
   "execution_count": 33,
   "id": "9021e036-da0e-4f32-a67d-be31b7f20e83",
   "metadata": {
    "scrolled": true
   },
   "outputs": [
    {
     "ename": "NameError",
     "evalue": "name 'false' is not defined",
     "output_type": "error",
     "traceback": [
      "\u001b[1;31m---------------------------------------------------------------------------\u001b[0m",
      "\u001b[1;31mNameError\u001b[0m                                 Traceback (most recent call last)",
      "Cell \u001b[1;32mIn[33], line 1\u001b[0m\n\u001b[1;32m----> 1\u001b[0m false\n",
      "\u001b[1;31mNameError\u001b[0m: name 'false' is not defined"
     ]
    }
   ],
   "source": [
    "false"
   ]
  },
  {
   "cell_type": "code",
   "execution_count": 34,
   "id": "3279917f-4721-4fbd-afa8-1d44bf4ae086",
   "metadata": {},
   "outputs": [
    {
     "ename": "NameError",
     "evalue": "name 'true' is not defined",
     "output_type": "error",
     "traceback": [
      "\u001b[1;31m---------------------------------------------------------------------------\u001b[0m",
      "\u001b[1;31mNameError\u001b[0m                                 Traceback (most recent call last)",
      "Cell \u001b[1;32mIn[34], line 1\u001b[0m\n\u001b[1;32m----> 1\u001b[0m true\n",
      "\u001b[1;31mNameError\u001b[0m: name 'true' is not defined"
     ]
    }
   ],
   "source": [
    "true"
   ]
  },
  {
   "cell_type": "markdown",
   "id": "5866e621-229a-44ba-8f71-61a71b5957a1",
   "metadata": {
    "jp-MarkdownHeadingCollapsed": true
   },
   "source": [
    "## 5. Complex"
   ]
  },
  {
   "cell_type": "code",
   "execution_count": 29,
   "id": "9ec33d3e-8ed0-4efd-b9ee-8ad0e2714660",
   "metadata": {},
   "outputs": [
    {
     "data": {
      "text/plain": [
       "8j"
      ]
     },
     "execution_count": 29,
     "metadata": {},
     "output_type": "execute_result"
    }
   ],
   "source": [
    "8j"
   ]
  },
  {
   "cell_type": "code",
   "execution_count": 31,
   "id": "54036769-1942-41ab-93e3-902c0be6dba4",
   "metadata": {},
   "outputs": [
    {
     "data": {
      "text/plain": [
       "complex"
      ]
     },
     "execution_count": 31,
     "metadata": {},
     "output_type": "execute_result"
    }
   ],
   "source": [
    "type(9 + 9j)"
   ]
  },
  {
   "cell_type": "markdown",
   "id": "aead6e4a-b129-465a-a791-5aa06d1dd420",
   "metadata": {
    "jp-MarkdownHeadingCollapsed": true
   },
   "source": [
    "## 6. None"
   ]
  },
  {
   "cell_type": "code",
   "execution_count": 2,
   "id": "d0ac0a48-0e29-47c2-9291-9466d7aca97a",
   "metadata": {},
   "outputs": [],
   "source": [
    "None"
   ]
  },
  {
   "cell_type": "code",
   "execution_count": 3,
   "id": "c8a99107-f138-4168-8cde-7e893ee9a112",
   "metadata": {},
   "outputs": [
    {
     "name": "stdout",
     "output_type": "stream",
     "text": [
      "None\n"
     ]
    }
   ],
   "source": [
    "print(None)"
   ]
  },
  {
   "cell_type": "code",
   "execution_count": 32,
   "id": "cf8e0dba-841e-40f9-99df-d89a8809c377",
   "metadata": {
    "scrolled": true
   },
   "outputs": [
    {
     "ename": "NameError",
     "evalue": "name 'none' is not defined",
     "output_type": "error",
     "traceback": [
      "\u001b[1;31m---------------------------------------------------------------------------\u001b[0m",
      "\u001b[1;31mNameError\u001b[0m                                 Traceback (most recent call last)",
      "Cell \u001b[1;32mIn[32], line 1\u001b[0m\n\u001b[1;32m----> 1\u001b[0m none\n",
      "\u001b[1;31mNameError\u001b[0m: name 'none' is not defined"
     ]
    }
   ],
   "source": [
    "none"
   ]
  },
  {
   "cell_type": "markdown",
   "id": "45df8998-31e8-4b4f-8851-5e73917f703a",
   "metadata": {},
   "source": [
    "---"
   ]
  },
  {
   "cell_type": "markdown",
   "id": "73a2d4f0-4694-4be9-a2c6-c3b9cd7a8826",
   "metadata": {
    "jp-MarkdownHeadingCollapsed": true
   },
   "source": [
    "# Operators"
   ]
  },
  {
   "cell_type": "markdown",
   "id": "c3624c22-4258-45b3-a95e-a05a41711e9f",
   "metadata": {},
   "source": [
    "- Arithmetic Operators\n",
    "- Relational / Comparision Operators\n",
    "- Logical Operators\n",
    "- Assignment Operators"
   ]
  },
  {
   "cell_type": "markdown",
   "id": "d6ea0198-2afd-43fc-8f64-ce41811ea398",
   "metadata": {
    "jp-MarkdownHeadingCollapsed": true
   },
   "source": [
    "## Arithmetic Operators"
   ]
  },
  {
   "cell_type": "markdown",
   "id": "2c35390a-4602-4e76-99a2-a618d1c74c8f",
   "metadata": {},
   "source": [
    "- Add\n",
    "- Subtract\n",
    "- Multiply\n",
    "- Divide\n",
    "- Modulo\n",
    "- Floor Division\n",
    "- Power"
   ]
  },
  {
   "cell_type": "markdown",
   "id": "e3f94583-2b99-4e9b-9e91-fc55d514b091",
   "metadata": {
    "jp-MarkdownHeadingCollapsed": true
   },
   "source": [
    "### 1. Add"
   ]
  },
  {
   "cell_type": "code",
   "execution_count": 39,
   "id": "b835e118-1a18-456b-9f7b-f9e2da683c18",
   "metadata": {},
   "outputs": [
    {
     "data": {
      "text/plain": [
       "10"
      ]
     },
     "execution_count": 39,
     "metadata": {},
     "output_type": "execute_result"
    }
   ],
   "source": [
    "3 + 7"
   ]
  },
  {
   "cell_type": "code",
   "execution_count": 4,
   "id": "da55bc31-c0e4-45c4-8e0d-658ec2b386ff",
   "metadata": {},
   "outputs": [
    {
     "data": {
      "text/plain": [
       "'kM'"
      ]
     },
     "execution_count": 4,
     "metadata": {},
     "output_type": "execute_result"
    }
   ],
   "source": [
    "\"k\" + \"M\" # concatenates when used between strings"
   ]
  },
  {
   "cell_type": "code",
   "execution_count": 42,
   "id": "11772ebe-bea1-452c-b1d0-3a7ef61b4198",
   "metadata": {},
   "outputs": [
    {
     "ename": "TypeError",
     "evalue": "unsupported operand type(s) for +: 'int' and 'str'",
     "output_type": "error",
     "traceback": [
      "\u001b[1;31m---------------------------------------------------------------------------\u001b[0m",
      "\u001b[1;31mTypeError\u001b[0m                                 Traceback (most recent call last)",
      "Cell \u001b[1;32mIn[42], line 1\u001b[0m\n\u001b[1;32m----> 1\u001b[0m \u001b[38;5;241m4\u001b[39m \u001b[38;5;241m+\u001b[39m \u001b[38;5;124m\"\u001b[39m\u001b[38;5;124mK\u001b[39m\u001b[38;5;124m\"\u001b[39m\n",
      "\u001b[1;31mTypeError\u001b[0m: unsupported operand type(s) for +: 'int' and 'str'"
     ]
    }
   ],
   "source": [
    "4 + \"K\""
   ]
  },
  {
   "cell_type": "markdown",
   "id": "4d33d843-d3ba-4dcd-9282-6f93e8c26b24",
   "metadata": {
    "jp-MarkdownHeadingCollapsed": true
   },
   "source": [
    "### 2. Subtract"
   ]
  },
  {
   "cell_type": "code",
   "execution_count": 44,
   "id": "113e4fb6-219d-478f-8525-74ce17ad71cb",
   "metadata": {},
   "outputs": [
    {
     "data": {
      "text/plain": [
       "-1"
      ]
     },
     "execution_count": 44,
     "metadata": {},
     "output_type": "execute_result"
    }
   ],
   "source": [
    "8 - 9"
   ]
  },
  {
   "cell_type": "code",
   "execution_count": 43,
   "id": "314eb075-9cbd-454c-a994-0bede4d23b82",
   "metadata": {},
   "outputs": [
    {
     "ename": "TypeError",
     "evalue": "unsupported operand type(s) for -: 'str' and 'str'",
     "output_type": "error",
     "traceback": [
      "\u001b[1;31m---------------------------------------------------------------------------\u001b[0m",
      "\u001b[1;31mTypeError\u001b[0m                                 Traceback (most recent call last)",
      "Cell \u001b[1;32mIn[43], line 1\u001b[0m\n\u001b[1;32m----> 1\u001b[0m \u001b[38;5;124m\"\u001b[39m\u001b[38;5;124mll\u001b[39m\u001b[38;5;124m\"\u001b[39m \u001b[38;5;241m-\u001b[39m \u001b[38;5;124m\"\u001b[39m\u001b[38;5;124mkjh\u001b[39m\u001b[38;5;124m\"\u001b[39m\n",
      "\u001b[1;31mTypeError\u001b[0m: unsupported operand type(s) for -: 'str' and 'str'"
     ]
    }
   ],
   "source": [
    "\"ll\" - \"kjh\""
   ]
  },
  {
   "cell_type": "markdown",
   "id": "248684d2-0e8e-4b29-830c-1daac4447f23",
   "metadata": {
    "jp-MarkdownHeadingCollapsed": true
   },
   "source": [
    "### 3. Multiply"
   ]
  },
  {
   "cell_type": "code",
   "execution_count": 45,
   "id": "e015ef7a-71f4-436d-bc0b-6523cf45927b",
   "metadata": {},
   "outputs": [
    {
     "data": {
      "text/plain": [
       "72"
      ]
     },
     "execution_count": 45,
     "metadata": {},
     "output_type": "execute_result"
    }
   ],
   "source": [
    "8 * 9"
   ]
  },
  {
   "cell_type": "code",
   "execution_count": 46,
   "id": "ddcfc657-0913-4a6e-83ef-25481627c56e",
   "metadata": {},
   "outputs": [
    {
     "data": {
      "text/plain": [
       "'jljljljljljljljl'"
      ]
     },
     "execution_count": 46,
     "metadata": {},
     "output_type": "execute_result"
    }
   ],
   "source": [
    "\"jl\" * 8"
   ]
  },
  {
   "cell_type": "code",
   "execution_count": 47,
   "id": "b9754466-0c82-464d-8937-5eca4c5c2d42",
   "metadata": {},
   "outputs": [
    {
     "ename": "TypeError",
     "evalue": "can't multiply sequence by non-int of type 'str'",
     "output_type": "error",
     "traceback": [
      "\u001b[1;31m---------------------------------------------------------------------------\u001b[0m",
      "\u001b[1;31mTypeError\u001b[0m                                 Traceback (most recent call last)",
      "Cell \u001b[1;32mIn[47], line 1\u001b[0m\n\u001b[1;32m----> 1\u001b[0m \u001b[38;5;124m\"\u001b[39m\u001b[38;5;124mkjhg\u001b[39m\u001b[38;5;124m\"\u001b[39m \u001b[38;5;241m*\u001b[39m \u001b[38;5;124m\"\u001b[39m\u001b[38;5;124mjyv\u001b[39m\u001b[38;5;124m\"\u001b[39m\n",
      "\u001b[1;31mTypeError\u001b[0m: can't multiply sequence by non-int of type 'str'"
     ]
    }
   ],
   "source": [
    "\"kjhg\" * \"jyv\""
   ]
  },
  {
   "cell_type": "markdown",
   "id": "c2e5e58f-83c5-46e2-8e98-985fe7884e3c",
   "metadata": {
    "jp-MarkdownHeadingCollapsed": true
   },
   "source": [
    "### 4. Divide"
   ]
  },
  {
   "cell_type": "code",
   "execution_count": 50,
   "id": "fbc61c6f-a896-45a3-85ad-f031c0b7ec65",
   "metadata": {},
   "outputs": [
    {
     "data": {
      "text/plain": [
       "1.0"
      ]
     },
     "execution_count": 50,
     "metadata": {},
     "output_type": "execute_result"
    }
   ],
   "source": [
    "9/9"
   ]
  },
  {
   "cell_type": "code",
   "execution_count": 55,
   "id": "08a23ca9-1b31-4a1a-a0c4-573ede8f9d2e",
   "metadata": {},
   "outputs": [
    {
     "data": {
      "text/plain": [
       "2.75"
      ]
     },
     "execution_count": 55,
     "metadata": {},
     "output_type": "execute_result"
    }
   ],
   "source": [
    "11/4"
   ]
  },
  {
   "cell_type": "code",
   "execution_count": 5,
   "id": "c29cf76a-40b2-4acd-94d4-e2396779363c",
   "metadata": {},
   "outputs": [
    {
     "ename": "TypeError",
     "evalue": "unsupported operand type(s) for /: 'str' and 'str'",
     "output_type": "error",
     "traceback": [
      "\u001b[1;31m---------------------------------------------------------------------------\u001b[0m",
      "\u001b[1;31mTypeError\u001b[0m                                 Traceback (most recent call last)",
      "Cell \u001b[1;32mIn[5], line 1\u001b[0m\n\u001b[1;32m----> 1\u001b[0m \u001b[38;5;124m\"\u001b[39m\u001b[38;5;124mhf\u001b[39m\u001b[38;5;124m\"\u001b[39m \u001b[38;5;241m/\u001b[39m \u001b[38;5;124m\"\u001b[39m\u001b[38;5;124mkgiu\u001b[39m\u001b[38;5;124m\"\u001b[39m\n",
      "\u001b[1;31mTypeError\u001b[0m: unsupported operand type(s) for /: 'str' and 'str'"
     ]
    }
   ],
   "source": [
    "\"hf\" / \"kgiu\""
   ]
  },
  {
   "cell_type": "markdown",
   "id": "41fb8720-1c7d-432a-99fd-58ded646ae6e",
   "metadata": {
    "jp-MarkdownHeadingCollapsed": true
   },
   "source": [
    "### 5. Modulo"
   ]
  },
  {
   "cell_type": "markdown",
   "id": "aaa36234-e2dd-4c20-96a0-4a75bebef5cb",
   "metadata": {},
   "source": [
    "> *it returns remainder of a division*"
   ]
  },
  {
   "cell_type": "code",
   "execution_count": 48,
   "id": "7593f154-f9bb-42ef-b110-a1cfc5f9bf50",
   "metadata": {},
   "outputs": [
    {
     "data": {
      "text/plain": [
       "1"
      ]
     },
     "execution_count": 48,
     "metadata": {},
     "output_type": "execute_result"
    }
   ],
   "source": [
    "9 % 8"
   ]
  },
  {
   "cell_type": "markdown",
   "id": "73f4f4bf-203b-4de5-8bda-9d18926baa59",
   "metadata": {
    "jp-MarkdownHeadingCollapsed": true
   },
   "source": [
    "### 6. Floor Division"
   ]
  },
  {
   "cell_type": "markdown",
   "id": "b012b410-3d0b-49dd-9042-2282501c257c",
   "metadata": {},
   "source": [
    "> *gives integer on a division, eventhough it is a float value"
   ]
  },
  {
   "cell_type": "code",
   "execution_count": 56,
   "id": "071e99df-d240-4903-a7ae-84b2716bc6af",
   "metadata": {},
   "outputs": [
    {
     "data": {
      "text/plain": [
       "2"
      ]
     },
     "execution_count": 56,
     "metadata": {},
     "output_type": "execute_result"
    }
   ],
   "source": [
    "11//4"
   ]
  },
  {
   "cell_type": "markdown",
   "id": "e2b2a4ca-9f37-4d66-892c-aedc22fbe2c4",
   "metadata": {
    "jp-MarkdownHeadingCollapsed": true
   },
   "source": [
    "### 7. Power"
   ]
  },
  {
   "cell_type": "code",
   "execution_count": 57,
   "id": "e6900bed-cd04-45c5-bf2c-484730c11e11",
   "metadata": {},
   "outputs": [
    {
     "data": {
      "text/plain": [
       "8"
      ]
     },
     "execution_count": 57,
     "metadata": {},
     "output_type": "execute_result"
    }
   ],
   "source": [
    "2**3"
   ]
  },
  {
   "cell_type": "markdown",
   "id": "8ce539e2-f2b8-4f0d-b76e-604ab0a8a0d9",
   "metadata": {
    "jp-MarkdownHeadingCollapsed": true
   },
   "source": [
    "## Relational / Comparision Operators"
   ]
  },
  {
   "cell_type": "markdown",
   "id": "d0d236c8-4781-4ead-a531-d33521bfc845",
   "metadata": {},
   "source": [
    "- Less than\n",
    "- Greater than\n",
    "- Less than or equal to\n",
    "- Greater than or equal to\n",
    "- Equal to\n",
    "- Not equal to\n"
   ]
  },
  {
   "cell_type": "markdown",
   "id": "1e762999-5915-42d3-901f-2d08a75ca5ef",
   "metadata": {
    "jp-MarkdownHeadingCollapsed": true
   },
   "source": [
    "### 1. Less than"
   ]
  },
  {
   "cell_type": "code",
   "execution_count": 58,
   "id": "ddebf5a6-f895-4dde-a5eb-c86b1bfda7a2",
   "metadata": {},
   "outputs": [
    {
     "data": {
      "text/plain": [
       "False"
      ]
     },
     "execution_count": 58,
     "metadata": {},
     "output_type": "execute_result"
    }
   ],
   "source": [
    "5 < 5"
   ]
  },
  {
   "cell_type": "markdown",
   "id": "57f5945c-15ee-42dc-b487-fbe20dc835ec",
   "metadata": {
    "jp-MarkdownHeadingCollapsed": true
   },
   "source": [
    "### 2. Greater than"
   ]
  },
  {
   "cell_type": "code",
   "execution_count": 6,
   "id": "6e892a65-31fe-4e6d-bd2e-a76ed8c74d83",
   "metadata": {},
   "outputs": [
    {
     "data": {
      "text/plain": [
       "False"
      ]
     },
     "execution_count": 6,
     "metadata": {},
     "output_type": "execute_result"
    }
   ],
   "source": [
    "5 > 5"
   ]
  },
  {
   "cell_type": "markdown",
   "id": "a155e1cd-4f35-44c0-ae1b-4eaf96564c62",
   "metadata": {
    "jp-MarkdownHeadingCollapsed": true
   },
   "source": [
    "### 3. Less than or equal to"
   ]
  },
  {
   "cell_type": "code",
   "execution_count": 7,
   "id": "63a6f706-d22c-4c4b-9f8c-ae87e78160ff",
   "metadata": {
    "scrolled": true
   },
   "outputs": [
    {
     "data": {
      "text/plain": [
       "True"
      ]
     },
     "execution_count": 7,
     "metadata": {},
     "output_type": "execute_result"
    }
   ],
   "source": [
    "5 <= 5"
   ]
  },
  {
   "cell_type": "markdown",
   "id": "87976257-512d-46ce-97f7-74a39dfd85a2",
   "metadata": {
    "jp-MarkdownHeadingCollapsed": true
   },
   "source": [
    "### 4. Greater than or equal to"
   ]
  },
  {
   "cell_type": "code",
   "execution_count": 8,
   "id": "c1ec7906-1ae3-46cc-95e4-d9f9bf43045d",
   "metadata": {},
   "outputs": [
    {
     "data": {
      "text/plain": [
       "True"
      ]
     },
     "execution_count": 8,
     "metadata": {},
     "output_type": "execute_result"
    }
   ],
   "source": [
    "5 >= 5"
   ]
  },
  {
   "cell_type": "markdown",
   "id": "139ea141-1f93-4ec3-9fcc-871c49a15683",
   "metadata": {
    "jp-MarkdownHeadingCollapsed": true
   },
   "source": [
    "### 5. Equal to"
   ]
  },
  {
   "cell_type": "code",
   "execution_count": 9,
   "id": "513ce36f-80f1-4e9c-bdbb-41e3bdbc467b",
   "metadata": {},
   "outputs": [
    {
     "data": {
      "text/plain": [
       "True"
      ]
     },
     "execution_count": 9,
     "metadata": {},
     "output_type": "execute_result"
    }
   ],
   "source": [
    "5 == 5"
   ]
  },
  {
   "cell_type": "markdown",
   "id": "0869e763-c55e-4529-8822-d7183311aed3",
   "metadata": {
    "jp-MarkdownHeadingCollapsed": true
   },
   "source": [
    "### 6. Not equal to"
   ]
  },
  {
   "cell_type": "code",
   "execution_count": 10,
   "id": "25c49f8c-9b27-40c6-91ec-06bd9ce3ef9d",
   "metadata": {},
   "outputs": [
    {
     "data": {
      "text/plain": [
       "False"
      ]
     },
     "execution_count": 10,
     "metadata": {},
     "output_type": "execute_result"
    }
   ],
   "source": [
    "5 != 5"
   ]
  },
  {
   "cell_type": "markdown",
   "id": "3fc5f273-56db-4c9d-b881-8cf09b97e7f9",
   "metadata": {
    "jp-MarkdownHeadingCollapsed": true
   },
   "source": [
    "## Logical Operators"
   ]
  },
  {
   "cell_type": "markdown",
   "id": "42c8049a-3bb9-4bde-8c2a-c3c9a2080065",
   "metadata": {},
   "source": [
    "- and\n",
    "- or\n",
    "- not"
   ]
  },
  {
   "cell_type": "markdown",
   "id": "bdaabfb4-4bd7-4cc0-a202-8fcfa9453e6b",
   "metadata": {},
   "source": [
    "### 1. and"
   ]
  },
  {
   "cell_type": "code",
   "execution_count": 13,
   "id": "9cd740a0-8217-451e-9018-b53df0843399",
   "metadata": {},
   "outputs": [
    {
     "data": {
      "text/plain": [
       "True"
      ]
     },
     "execution_count": 13,
     "metadata": {},
     "output_type": "execute_result"
    }
   ],
   "source": [
    "True and True"
   ]
  },
  {
   "cell_type": "code",
   "execution_count": 14,
   "id": "5339e037-8f2a-400d-bbbf-ca851b9a683b",
   "metadata": {},
   "outputs": [
    {
     "data": {
      "text/plain": [
       "False"
      ]
     },
     "execution_count": 14,
     "metadata": {},
     "output_type": "execute_result"
    }
   ],
   "source": [
    "False and True"
   ]
  },
  {
   "cell_type": "code",
   "execution_count": 15,
   "id": "c526ea10-d320-45b7-8921-294ff1f62032",
   "metadata": {},
   "outputs": [
    {
     "ename": "SyntaxError",
     "evalue": "invalid syntax (2217094200.py, line 1)",
     "output_type": "error",
     "traceback": [
      "\u001b[1;36m  Cell \u001b[1;32mIn[15], line 1\u001b[1;36m\u001b[0m\n\u001b[1;33m    False And True\u001b[0m\n\u001b[1;37m          ^\u001b[0m\n\u001b[1;31mSyntaxError\u001b[0m\u001b[1;31m:\u001b[0m invalid syntax\n"
     ]
    }
   ],
   "source": [
    "False And True"
   ]
  },
  {
   "cell_type": "markdown",
   "id": "831288bc-a903-4a9a-838e-45ca9cd771fc",
   "metadata": {},
   "source": [
    "### 2. or"
   ]
  },
  {
   "cell_type": "code",
   "execution_count": 16,
   "id": "815e558e-b5e9-458d-95f8-6fe7cf30fce0",
   "metadata": {},
   "outputs": [
    {
     "data": {
      "text/plain": [
       "True"
      ]
     },
     "execution_count": 16,
     "metadata": {},
     "output_type": "execute_result"
    }
   ],
   "source": [
    "True or True"
   ]
  },
  {
   "cell_type": "code",
   "execution_count": 17,
   "id": "c9582c4e-4796-46f7-b6ce-29b1d834a44a",
   "metadata": {},
   "outputs": [
    {
     "data": {
      "text/plain": [
       "True"
      ]
     },
     "execution_count": 17,
     "metadata": {},
     "output_type": "execute_result"
    }
   ],
   "source": [
    "False or True"
   ]
  },
  {
   "cell_type": "code",
   "execution_count": 18,
   "id": "3e91113a-86ca-4120-90a3-49041f615bae",
   "metadata": {
    "scrolled": true
   },
   "outputs": [
    {
     "ename": "SyntaxError",
     "evalue": "invalid syntax (1371645998.py, line 1)",
     "output_type": "error",
     "traceback": [
      "\u001b[1;36m  Cell \u001b[1;32mIn[18], line 1\u001b[1;36m\u001b[0m\n\u001b[1;33m    False Or True\u001b[0m\n\u001b[1;37m          ^\u001b[0m\n\u001b[1;31mSyntaxError\u001b[0m\u001b[1;31m:\u001b[0m invalid syntax\n"
     ]
    }
   ],
   "source": [
    "False Or True"
   ]
  },
  {
   "cell_type": "markdown",
   "id": "1cd8740b-fec1-4f72-bde0-71e10669e521",
   "metadata": {},
   "source": [
    "### 3. not"
   ]
  },
  {
   "cell_type": "code",
   "execution_count": 19,
   "id": "c88fb576-6f70-4176-8827-7bf48b6c5301",
   "metadata": {},
   "outputs": [
    {
     "data": {
      "text/plain": [
       "False"
      ]
     },
     "execution_count": 19,
     "metadata": {},
     "output_type": "execute_result"
    }
   ],
   "source": [
    "not True"
   ]
  },
  {
   "cell_type": "markdown",
   "id": "18f359c3-94df-46dd-88e9-c6dc9b1db316",
   "metadata": {
    "jp-MarkdownHeadingCollapsed": true
   },
   "source": [
    "## Assignment Operators"
   ]
  },
  {
   "cell_type": "markdown",
   "id": "4f0fe919-4a26-401c-8ec3-3a65f8bd6d22",
   "metadata": {},
   "source": [
    "- Add Equal to\n",
    "- Subtract Equal to\n",
    "- Multiply Equal to\n",
    "- Divide Equal to"
   ]
  },
  {
   "cell_type": "markdown",
   "id": "679f1fdf-a108-42ce-aefc-64cd8139055f",
   "metadata": {
    "jp-MarkdownHeadingCollapsed": true
   },
   "source": [
    "### 1. Add Equal to"
   ]
  },
  {
   "cell_type": "code",
   "execution_count": 20,
   "id": "4ecf0166-0095-42cb-bd20-1c020a758e37",
   "metadata": {},
   "outputs": [
    {
     "data": {
      "text/plain": [
       "7"
      ]
     },
     "execution_count": 20,
     "metadata": {},
     "output_type": "execute_result"
    }
   ],
   "source": [
    "a = 6\n",
    "a += 1\n",
    "a"
   ]
  },
  {
   "cell_type": "markdown",
   "id": "66d45aad-b247-43cb-96f0-d7d2e9b95822",
   "metadata": {
    "jp-MarkdownHeadingCollapsed": true
   },
   "source": [
    "### 2. Subtract Equal to"
   ]
  },
  {
   "cell_type": "code",
   "execution_count": 24,
   "id": "265e2b3f-7be9-4380-b552-408159ce3dc5",
   "metadata": {},
   "outputs": [
    {
     "data": {
      "text/plain": [
       "5"
      ]
     },
     "execution_count": 24,
     "metadata": {},
     "output_type": "execute_result"
    }
   ],
   "source": [
    "b = 6\n",
    "b -= 1\n",
    "b"
   ]
  },
  {
   "cell_type": "markdown",
   "id": "7a8b0974-1c66-4267-aaef-a683faf63715",
   "metadata": {
    "jp-MarkdownHeadingCollapsed": true
   },
   "source": [
    "### 3. Multiply Equal to"
   ]
  },
  {
   "cell_type": "code",
   "execution_count": 23,
   "id": "3d16bb35-5ad5-4520-bba0-5ce48e2e9943",
   "metadata": {},
   "outputs": [
    {
     "data": {
      "text/plain": [
       "12"
      ]
     },
     "execution_count": 23,
     "metadata": {},
     "output_type": "execute_result"
    }
   ],
   "source": [
    "c = 6\n",
    "c *= 2\n",
    "c"
   ]
  },
  {
   "cell_type": "markdown",
   "id": "538b4072-1ece-42bf-8602-f9285eeb83ce",
   "metadata": {
    "jp-MarkdownHeadingCollapsed": true
   },
   "source": [
    "### 4. Divide Equal to"
   ]
  },
  {
   "cell_type": "code",
   "execution_count": 25,
   "id": "df887eb9-73af-43aa-9d86-4918f11983e9",
   "metadata": {},
   "outputs": [
    {
     "data": {
      "text/plain": [
       "2.0"
      ]
     },
     "execution_count": 25,
     "metadata": {},
     "output_type": "execute_result"
    }
   ],
   "source": [
    "d = 6\n",
    "d /= 3\n",
    "d"
   ]
  },
  {
   "cell_type": "markdown",
   "id": "d43882c4-b3d0-4b18-9670-bc4ae7bb29ff",
   "metadata": {},
   "source": [
    "---"
   ]
  }
 ],
 "metadata": {
  "kernelspec": {
   "display_name": "Python 3 (ipykernel)",
   "language": "python",
   "name": "python3"
  },
  "language_info": {
   "codemirror_mode": {
    "name": "ipython",
    "version": 3
   },
   "file_extension": ".py",
   "mimetype": "text/x-python",
   "name": "python",
   "nbconvert_exporter": "python",
   "pygments_lexer": "ipython3",
   "version": "3.11.7"
  }
 },
 "nbformat": 4,
 "nbformat_minor": 5
}
